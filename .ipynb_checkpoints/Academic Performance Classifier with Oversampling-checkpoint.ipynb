{
 "cells": [
  {
   "cell_type": "markdown",
   "id": "453c7cb5",
   "metadata": {},
   "source": [
    "# Data Processing and Modeling"
   ]
  },
  {
   "cell_type": "code",
   "execution_count": 103,
   "id": "a5382e9d",
   "metadata": {},
   "outputs": [],
   "source": [
    "import numpy as np \n",
    "import pandas as pd\n",
    "import seaborn as sns\n",
    "import matplotlib.pyplot as plt\n",
    "\n",
    "#-------------------------------------\n",
    "from sklearn.model_selection import train_test_split\n",
    "from sklearn.model_selection import KFold, StratifiedKFold, RepeatedStratifiedKFold\n",
    "from sklearn.model_selection import cross_val_score, cross_val_predict\n",
    "from sklearn.model_selection import GridSearchCV, RandomizedSearchCV\n",
    "\n",
    "#-------------------------------------\n",
    "from scipy.stats import shapiro\n",
    "\n",
    "#-------------------------------------\n",
    "from sklearn.preprocessing import LabelEncoder\n",
    "from sklearn.preprocessing import StandardScaler\n",
    "from sklearn.preprocessing import MinMaxScaler\n",
    "from sklearn.preprocessing import RobustScaler\n",
    "\n",
    "#-------------------------------------\n",
    "from sklearn.metrics import confusion_matrix, classification_report\n",
    "from sklearn.metrics import accuracy_score, f1_score,recall_score, precision_score\n",
    "from sklearn.metrics import average_precision_score, roc_auc_score, roc_curve, auc\n",
    "\n",
    "#-------------------------------------\n",
    "from mlxtend.feature_selection import SequentialFeatureSelector as SFS\n",
    "from statsmodels.stats.outliers_influence import variance_inflation_factor\n",
    "\n",
    "#-------------------------------------\n",
    "from sklearn.tree import DecisionTreeClassifier\n",
    "from sklearn.neural_network import MLPClassifier\n",
    "from sklearn.neighbors import KNeighborsClassifier\n",
    "from sklearn.ensemble import GradientBoostingClassifier\n",
    "from sklearn.ensemble import RandomForestClassifier\n",
    "\n",
    "\n",
    "#------------------------------------- \n",
    "from imblearn.over_sampling import SMOTE, ADASYN, BorderlineSMOTE, SVMSMOTE, RandomOverSampler\n",
    "\n",
    "import warnings\n",
    "warnings.filterwarnings(\"ignore\")"
   ]
  },
  {
   "cell_type": "code",
   "execution_count": 2,
   "id": "15bca129",
   "metadata": {},
   "outputs": [],
   "source": [
    "CV = StratifiedKFold(n_splits=10, random_state=0, shuffle=True)"
   ]
  },
  {
   "cell_type": "code",
   "execution_count": 3,
   "id": "d8203ab3",
   "metadata": {},
   "outputs": [
    {
     "name": "stdout",
     "output_type": "stream",
     "text": [
      "<class 'pandas.core.frame.DataFrame'>\n",
      "RangeIndex: 145 entries, 0 to 144\n",
      "Data columns (total 33 columns):\n",
      " #   Column         Non-Null Count  Dtype \n",
      "---  ------         --------------  ----- \n",
      " 0   STUDENTID      145 non-null    object\n",
      " 1   AGE            145 non-null    int64 \n",
      " 2   GENDER         145 non-null    int64 \n",
      " 3   HS_TYPE        145 non-null    int64 \n",
      " 4   SCHOLARSHIP    145 non-null    int64 \n",
      " 5   WORK           145 non-null    int64 \n",
      " 6   ACTIVITY       145 non-null    int64 \n",
      " 7   PARTNER        145 non-null    int64 \n",
      " 8   SALARY         145 non-null    int64 \n",
      " 9   TRANSPORT      145 non-null    int64 \n",
      " 10  LIVING         145 non-null    int64 \n",
      " 11  MOTHER_EDU     145 non-null    int64 \n",
      " 12  FATHER_EDU     145 non-null    int64 \n",
      " 13  #_SIBLINGS     145 non-null    int64 \n",
      " 14  KIDS           145 non-null    int64 \n",
      " 15  MOTHER_JOB     145 non-null    int64 \n",
      " 16  FATHER_JOB     145 non-null    int64 \n",
      " 17  STUDY_HRS      145 non-null    int64 \n",
      " 18  READ_FREQ      145 non-null    int64 \n",
      " 19  READ_FREQ_SCI  145 non-null    int64 \n",
      " 20  ATTEND_DEPT    145 non-null    int64 \n",
      " 21  IMPACT         145 non-null    int64 \n",
      " 22  ATTEND         145 non-null    int64 \n",
      " 23  PREP_STUDY     145 non-null    int64 \n",
      " 24  PREP_EXAM      145 non-null    int64 \n",
      " 25  NOTES          145 non-null    int64 \n",
      " 26  LISTENS        145 non-null    int64 \n",
      " 27  LIKES_DISCUSS  145 non-null    int64 \n",
      " 28  CLASSROOM      145 non-null    int64 \n",
      " 29  CUML_GPA       145 non-null    int64 \n",
      " 30  EXP_GPA        145 non-null    int64 \n",
      " 31  COURSE ID      145 non-null    int64 \n",
      " 32  GRADE          145 non-null    int64 \n",
      "dtypes: int64(32), object(1)\n",
      "memory usage: 37.5+ KB\n"
     ]
    }
   ],
   "source": [
    "# load dataset\n",
    "df = pd.read_csv(\"C:/Users/niniw/Documents/Capstone 3 - Educational Analysis/student_prediction.csv\")\n",
    "df.info()"
   ]
  },
  {
   "cell_type": "code",
   "execution_count": 4,
   "id": "f4a86601",
   "metadata": {},
   "outputs": [
    {
     "data": {
      "text/plain": [
       "(145, 33)"
      ]
     },
     "execution_count": 4,
     "metadata": {},
     "output_type": "execute_result"
    }
   ],
   "source": [
    "df.shape"
   ]
  },
  {
   "cell_type": "code",
   "execution_count": 5,
   "id": "754fd91b",
   "metadata": {},
   "outputs": [
    {
     "data": {
      "text/plain": [
       "Index(['STUDENTID', 'AGE', 'GENDER', 'HS_TYPE', 'SCHOLARSHIP', 'WORK',\n",
       "       'ACTIVITY', 'PARTNER', 'SALARY', 'TRANSPORT', 'LIVING', 'MOTHER_EDU',\n",
       "       'FATHER_EDU', '#_SIBLINGS', 'KIDS', 'MOTHER_JOB', 'FATHER_JOB',\n",
       "       'STUDY_HRS', 'READ_FREQ', 'READ_FREQ_SCI', 'ATTEND_DEPT', 'IMPACT',\n",
       "       'ATTEND', 'PREP_STUDY', 'PREP_EXAM', 'NOTES', 'LISTENS',\n",
       "       'LIKES_DISCUSS', 'CLASSROOM', 'CUML_GPA', 'EXP_GPA', 'COURSE ID',\n",
       "       'GRADE'],\n",
       "      dtype='object')"
      ]
     },
     "execution_count": 5,
     "metadata": {},
     "output_type": "execute_result"
    }
   ],
   "source": [
    "df.columns"
   ]
  },
  {
   "cell_type": "code",
   "execution_count": 6,
   "id": "285a564a",
   "metadata": {},
   "outputs": [
    {
     "data": {
      "text/plain": [
       "STUDENTID        object\n",
       "AGE               int64\n",
       "GENDER            int64\n",
       "HS_TYPE           int64\n",
       "SCHOLARSHIP       int64\n",
       "WORK              int64\n",
       "ACTIVITY          int64\n",
       "PARTNER           int64\n",
       "SALARY            int64\n",
       "TRANSPORT         int64\n",
       "LIVING            int64\n",
       "MOTHER_EDU        int64\n",
       "FATHER_EDU        int64\n",
       "#_SIBLINGS        int64\n",
       "KIDS              int64\n",
       "MOTHER_JOB        int64\n",
       "FATHER_JOB        int64\n",
       "STUDY_HRS         int64\n",
       "READ_FREQ         int64\n",
       "READ_FREQ_SCI     int64\n",
       "ATTEND_DEPT       int64\n",
       "IMPACT            int64\n",
       "ATTEND            int64\n",
       "PREP_STUDY        int64\n",
       "PREP_EXAM         int64\n",
       "NOTES             int64\n",
       "LISTENS           int64\n",
       "LIKES_DISCUSS     int64\n",
       "CLASSROOM         int64\n",
       "CUML_GPA          int64\n",
       "EXP_GPA           int64\n",
       "COURSE ID         int64\n",
       "GRADE             int64\n",
       "dtype: object"
      ]
     },
     "execution_count": 6,
     "metadata": {},
     "output_type": "execute_result"
    }
   ],
   "source": [
    "df.dtypes"
   ]
  },
  {
   "cell_type": "code",
   "execution_count": 7,
   "id": "6187051c",
   "metadata": {},
   "outputs": [
    {
     "data": {
      "image/png": "[encoded data removed]",
      "text/plain": [
       "<Figure size 432x288 with 1 Axes>"
      ]
     },
     "metadata": {
      "needs_background": "light"
     },
     "output_type": "display_data"
    }
   ],
   "source": [
    "sns.countplot(df['EXP_GPA'],label=\"Count\")\n",
    "plt.show()"
   ]
  },
  {
   "cell_type": "markdown",
   "id": "6e878485",
   "metadata": {},
   "source": [
    "The data is imbalnced so I will perform overfittign with the following methods:\n",
    "- Simple Random Oversampling\n",
    "- SMOTE\n",
    "- ADASYN"
   ]
  },
  {
   "cell_type": "markdown",
   "id": "0fbe6d6d",
   "metadata": {},
   "source": [
    "## Preprocesssing and Cleaning Data"
   ]
  },
  {
   "cell_type": "code",
   "execution_count": 8,
   "id": "77a72d7a",
   "metadata": {},
   "outputs": [
    {
     "data": {
      "text/plain": [
       "STUDENTID        0\n",
       "AGE              0\n",
       "GENDER           0\n",
       "HS_TYPE          0\n",
       "SCHOLARSHIP      0\n",
       "WORK             0\n",
       "ACTIVITY         0\n",
       "PARTNER          0\n",
       "SALARY           0\n",
       "TRANSPORT        0\n",
       "LIVING           0\n",
       "MOTHER_EDU       0\n",
       "FATHER_EDU       0\n",
       "#_SIBLINGS       0\n",
       "KIDS             0\n",
       "MOTHER_JOB       0\n",
       "FATHER_JOB       0\n",
       "STUDY_HRS        0\n",
       "READ_FREQ        0\n",
       "READ_FREQ_SCI    0\n",
       "ATTEND_DEPT      0\n",
       "IMPACT           0\n",
       "ATTEND           0\n",
       "PREP_STUDY       0\n",
       "PREP_EXAM        0\n",
       "NOTES            0\n",
       "LISTENS          0\n",
       "LIKES_DISCUSS    0\n",
       "CLASSROOM        0\n",
       "CUML_GPA         0\n",
       "EXP_GPA          0\n",
       "COURSE ID        0\n",
       "GRADE            0\n",
       "dtype: int64"
      ]
     },
     "execution_count": 8,
     "metadata": {},
     "output_type": "execute_result"
    }
   ],
   "source": [
    "#checking for missing values\n",
    "df.isnull().sum()"
   ]
  },
  {
   "cell_type": "code",
   "execution_count": 9,
   "id": "9ce0cddf",
   "metadata": {},
   "outputs": [],
   "source": [
    "df1 = df.drop(['STUDENTID'], axis =1)"
   ]
  },
  {
   "cell_type": "code",
   "execution_count": 10,
   "id": "1ae9507d",
   "metadata": {},
   "outputs": [
    {
     "name": "stdout",
     "output_type": "stream",
     "text": [
      "[[0.62076591 0.81649658 1.97095572 ... 1.88766626 0.96372631 1.01712232]\n",
      " [0.62076591 0.81649658 1.97095572 ... 0.3020266  0.96372631 1.01712232]\n",
      " [0.62076591 0.81649658 0.10305651 ... 0.79281983 0.96372631 1.01712232]\n",
      " ...\n",
      " [1.01579877 1.22474487 1.7648427  ... 0.3020266  1.4986581  1.01712232]\n",
      " [0.62076591 1.22474487 0.10305651 ... 0.3020266  1.4986581  0.35268638]\n",
      " [1.01579877 1.22474487 1.7648427  ... 1.39687304 1.4986581  0.10391652]]\n"
     ]
    }
   ],
   "source": [
    "#Checking for outliers\n",
    "from scipy import stats\n",
    "z = np.abs(stats.zscore(df1))\n",
    "print(z)"
   ]
  },
  {
   "cell_type": "code",
   "execution_count": 11,
   "id": "bf3b4f1e",
   "metadata": {},
   "outputs": [
    {
     "name": "stdout",
     "output_type": "stream",
     "text": [
      "(array([ 11,  15,  18,  23,  47,  55,  55,  60,  60,  61,  64,  65,  68,\n",
      "        77,  79,  80,  84,  84,  93,  93, 103, 108, 109, 112, 113, 115,\n",
      "       119, 119, 121, 121, 121, 135, 138, 138, 139, 143], dtype=int64), array([20, 20, 16,  7, 14, 13, 23,  7, 10, 20, 20, 20, 13, 10, 20, 20, 13,\n",
      "       23,  3, 16,  7, 13, 13, 20, 20, 20, 13, 16, 13, 16, 20, 20,  7, 20,\n",
      "       14,  7], dtype=int64))\n"
     ]
    }
   ],
   "source": [
    "threshold = 3\n",
    "print(np.where(z > 3))"
   ]
  },
  {
   "cell_type": "code",
   "execution_count": 12,
   "id": "fdcfdcae",
   "metadata": {},
   "outputs": [],
   "source": [
    "df_o = df1[(z < 3).all(axis=1)]"
   ]
  },
  {
   "cell_type": "code",
   "execution_count": 13,
   "id": "966692b9",
   "metadata": {},
   "outputs": [
    {
     "data": {
      "text/plain": [
       "(117, 32)"
      ]
     },
     "execution_count": 13,
     "metadata": {},
     "output_type": "execute_result"
    }
   ],
   "source": [
    "df_o.shape"
   ]
  },
  {
   "cell_type": "code",
   "execution_count": 14,
   "id": "bd2f81b4",
   "metadata": {},
   "outputs": [
    {
     "data": {
      "text/plain": [
       "(0, 32)"
      ]
     },
     "execution_count": 14,
     "metadata": {},
     "output_type": "execute_result"
    }
   ],
   "source": [
    "#Checking for duplicates:\n",
    "df_o.loc[df1.duplicated()].shape"
   ]
  },
  {
   "cell_type": "code",
   "execution_count": 15,
   "id": "166dfbb3",
   "metadata": {},
   "outputs": [
    {
     "data": {
      "text/plain": [
       "(117, 32)"
      ]
     },
     "execution_count": 15,
     "metadata": {},
     "output_type": "execute_result"
    }
   ],
   "source": [
    "df_dummy = df_o.drop_duplicates()\n",
    "df_dummy.shape"
   ]
  },
  {
   "cell_type": "markdown",
   "id": "d732737c",
   "metadata": {},
   "source": [
    "No duplicated data to handle"
   ]
  },
  {
   "cell_type": "markdown",
   "id": "e3811dc2",
   "metadata": {},
   "source": [
    "### Creating Train/Test"
   ]
  },
  {
   "cell_type": "code",
   "execution_count": 16,
   "id": "3458b070",
   "metadata": {},
   "outputs": [],
   "source": [
    "feature_cols = ['COURSE ID','AGE','GENDER','HS_TYPE','SCHOLARSHIP','WORK','PARTNER','SALARY','TRANSPORT','LIVING','MOTHER_EDU','FATHER_EDU','#_SIBLINGS','KIDS','MOTHER_JOB','FATHER_JOB','NOTES','LISTENS','LIKES_DISCUSS','CLASSROOM','STUDY_HRS','READ_FREQ','READ_FREQ_SCI','ATTEND_DEPT','IMPACT','ATTEND','PREP_STUDY','PREP_EXAM','GRADE','CUML_GPA']\n",
    "X = df_dummy[feature_cols]\n",
    "y = df_dummy.EXP_GPA"
   ]
  },
  {
   "cell_type": "code",
   "execution_count": 17,
   "id": "15c04858",
   "metadata": {},
   "outputs": [],
   "source": [
    "# split X and y into training and testing sets\n",
    "X_train, X_test, y_train, y_test = train_test_split(X, y, test_size = 0.3, random_state = 1)"
   ]
  },
  {
   "cell_type": "code",
   "execution_count": 18,
   "id": "b0d0e9bd",
   "metadata": {},
   "outputs": [
    {
     "data": {
      "text/plain": [
       "((81, 30), (36, 30))"
      ]
     },
     "execution_count": 18,
     "metadata": {},
     "output_type": "execute_result"
    }
   ],
   "source": [
    "# check the shape of X_train and X_test\n",
    "X_train.shape, X_test.shape"
   ]
  },
  {
   "cell_type": "code",
   "execution_count": 19,
   "id": "64ffd740",
   "metadata": {},
   "outputs": [],
   "source": [
    "#Scaling the data\n",
    "scale = MinMaxScaler()\n",
    "col = X_train.columns\n",
    "\n",
    "X_train[col] = scale.fit_transform(X_train[col])\n",
    "X_test[col] = scale.transform(X_test[col])"
   ]
  },
  {
   "cell_type": "markdown",
   "id": "d4628e2f",
   "metadata": {},
   "source": [
    "# Random Oversampling"
   ]
  },
  {
   "cell_type": "code",
   "execution_count": 20,
   "id": "0e3ce7c4",
   "metadata": {},
   "outputs": [],
   "source": [
    "#Create a copy of the data:\n",
    "X_train_randOverSample = X_train.copy()\n",
    "y_train_randOverSample = y_train.copy()"
   ]
  },
  {
   "cell_type": "code",
   "execution_count": 21,
   "id": "7847aa5e",
   "metadata": {},
   "outputs": [],
   "source": [
    "#Random Oversampling:\n",
    "randOverSample = RandomOverSampler(random_state=100,)\n",
    "X_train_randOverSample, y_train_randOverSample = randOverSample.fit_resample(X_train_randOverSample, y_train_randOverSample.ravel())"
   ]
  },
  {
   "cell_type": "markdown",
   "id": "700e14b8",
   "metadata": {},
   "source": [
    "## Feature Selection"
   ]
  },
  {
   "cell_type": "code",
   "execution_count": 74,
   "id": "d9960808",
   "metadata": {},
   "outputs": [
    {
     "name": "stderr",
     "output_type": "stream",
     "text": [
      "[Parallel(n_jobs=-1)]: Using backend LokyBackend with 12 concurrent workers.\n",
      "[Parallel(n_jobs=-1)]: Done  23 out of  30 | elapsed:    6.5s remaining:    1.9s\n",
      "[Parallel(n_jobs=-1)]: Done  30 out of  30 | elapsed:    8.5s finished\n",
      "\n",
      "[2022-06-01 13:46:39] Features: 1/5 -- score: 0.5[Parallel(n_jobs=-1)]: Using backend LokyBackend with 12 concurrent workers.\n",
      "[Parallel(n_jobs=-1)]: Done  21 out of  29 | elapsed:    8.4s remaining:    3.1s\n",
      "[Parallel(n_jobs=-1)]: Done  29 out of  29 | elapsed:   10.8s finished\n",
      "\n",
      "[2022-06-01 13:46:50] Features: 2/5 -- score: 0.6142857142857143[Parallel(n_jobs=-1)]: Using backend LokyBackend with 12 concurrent workers.\n",
      "[Parallel(n_jobs=-1)]: Done  20 out of  28 | elapsed:    9.0s remaining:    3.5s\n",
      "[Parallel(n_jobs=-1)]: Done  28 out of  28 | elapsed:   11.3s finished\n",
      "\n",
      "[2022-06-01 13:47:01] Features: 3/5 -- score: 0.75[Parallel(n_jobs=-1)]: Using backend LokyBackend with 12 concurrent workers.\n",
      "[Parallel(n_jobs=-1)]: Done  18 out of  27 | elapsed:    9.6s remaining:    4.8s\n",
      "[Parallel(n_jobs=-1)]: Done  27 out of  27 | elapsed:   12.2s finished\n",
      "\n",
      "[2022-06-01 13:47:13] Features: 4/5 -- score: 0.7928571428571428[Parallel(n_jobs=-1)]: Using backend LokyBackend with 12 concurrent workers.\n",
      "[Parallel(n_jobs=-1)]: Done  17 out of  26 | elapsed:    9.1s remaining:    4.8s\n",
      "[Parallel(n_jobs=-1)]: Done  26 out of  26 | elapsed:   11.4s finished\n",
      "\n",
      "[2022-06-01 13:47:25] Features: 5/5 -- score: 0.85"
     ]
    }
   ],
   "source": [
    "sfs_randOverSample = SFS(GradientBoostingClassifier(n_estimators=100, random_state=0),\n",
    "          k_features = 5,\n",
    "          forward= True,\n",
    "          floating = False,\n",
    "          verbose= 2,\n",
    "          scoring= 'accuracy',\n",
    "          cv = CV,\n",
    "          n_jobs= -1).fit(X_train_randOverSample, y_train_randOverSample)"
   ]
  },
  {
   "cell_type": "code",
   "execution_count": 75,
   "id": "a120de78",
   "metadata": {},
   "outputs": [
    {
     "name": "stdout",
     "output_type": "stream",
     "text": [
      "Feature Names:  ('HS_TYPE', 'LIVING', '#_SIBLINGS', 'CLASSROOM', 'CUML_GPA')\n",
      "Score:  0.85\n"
     ]
    }
   ],
   "source": [
    "print(\"Feature Names: \",sfs_randOverSample.k_feature_names_)\n",
    "\n",
    "print(\"Score: \", sfs_randOverSample.k_score_)"
   ]
  },
  {
   "cell_type": "code",
   "execution_count": 76,
   "id": "fdf1346b",
   "metadata": {},
   "outputs": [],
   "source": [
    "X_train_new_randOverSample = X_train_randOverSample[['HS_TYPE','LIVING', '#_SIBLINGS', 'CLASSROOM', 'CUML_GPA']]\n",
    "\n",
    "X_test_new_randOverSample = X_test[['HS_TYPE', 'LIVING', '#_SIBLINGS', 'CLASSROOM', 'CUML_GPA']]"
   ]
  },
  {
   "cell_type": "code",
   "execution_count": 113,
   "id": "b900c10c",
   "metadata": {},
   "outputs": [],
   "source": [
    "DT = DecisionTreeClassifier(min_samples_leaf=3, min_samples_split=3, random_state=0)\n",
    "cross_val_DT = cross_val_score(DT, X_train_new_randOverSample, y_train_randOverSample , cv = CV, scoring = 'accuracy' ) \n",
    "cross_val_DT_f1 = cross_val_score(DT, X_train_new_randOverSample, y_train_randOverSample , cv = CV, \n",
    "                                  scoring = 'f1_weighted') \n",
    "\n",
    "# --------------------------------------------------------------------------\n",
    "RF = RandomForestClassifier(criterion='entropy', min_samples_leaf=2,min_samples_split=6, n_estimators=25, random_state=0)\n",
    "cross_val_RF = cross_val_score(RF, X_train_new_randOverSample, y_train_randOverSample , cv = CV, scoring = 'accuracy') \n",
    "cross_val_RF_f1 = cross_val_score(RF, X_train_new_randOverSample, y_train_randOverSample , cv = CV, \n",
    "                                  scoring = 'f1_weighted') \n",
    "\n",
    "# --------------------------------------------------------------------------\n",
    "NN = MLPClassifier(activation='tanh', hidden_layer_sizes=20, learning_rate_init=0.025, max_iter=100, random_state=0)\n",
    "cross_val_NN = cross_val_score(NN, X_train_new_randOverSample, y_train_randOverSample , cv = CV, scoring = 'accuracy') \n",
    "cross_val_NN_f1 = cross_val_score(NN, X_train_new_randOverSample, y_train_randOverSample , cv = CV, \n",
    "                                   scoring = 'f1_weighted') \n",
    "# --------------------------------------------------------------------------\n",
    "KNN = KNeighborsClassifier(n_neighbors=19)\n",
    "cross_val_KNN = cross_val_score(KNN, X_train_new_randOverSample, y_train_randOverSample , cv = CV, \n",
    "                                scoring = 'accuracy') \n",
    "cross_val_KNN_f1 = cross_val_score(KNN, X_train_new_randOverSample, y_train_randOverSample , cv = CV, \n",
    "                                   scoring = 'f1_weighted') "
   ]
  },
  {
   "cell_type": "code",
   "execution_count": 126,
   "id": "ae76da95",
   "metadata": {},
   "outputs": [],
   "source": [
    "compare_models = [('Decision Tree', cross_val_DT.mean(),cross_val_DT_f1.mean()),\n",
    "                  ('Random Forest', cross_val_RF.mean(),cross_val_RF_f1.mean()),\n",
    "                  ('Neural Network', cross_val_NN.mean(),cross_val_NN_f1.mean()),\n",
    "                  ('KNN', cross_val_KNN.mean(),cross_val_KNN_f1.mean())\n",
    "                 ]"
   ]
  },
  {
   "cell_type": "code",
   "execution_count": 127,
   "id": "98367cee",
   "metadata": {},
   "outputs": [
    {
     "data": {
      "text/html": [
       "<style  type=\"text/css\" >\n",
       "#T_55899_row0_col1,#T_55899_row3_col2{\n",
       "            background-color:  #ffffe5;\n",
       "            color:  #000000;\n",
       "        }#T_55899_row0_col2{\n",
       "            background-color:  #f1fab5;\n",
       "            color:  #000000;\n",
       "        }#T_55899_row1_col1,#T_55899_row1_col2{\n",
       "            background-color:  #004529;\n",
       "            color:  #f1f1f1;\n",
       "        }#T_55899_row2_col1{\n",
       "            background-color:  #8bce81;\n",
       "            color:  #000000;\n",
       "        }#T_55899_row2_col2{\n",
       "            background-color:  #a2d88a;\n",
       "            color:  #000000;\n",
       "        }#T_55899_row3_col1{\n",
       "            background-color:  #d2eda0;\n",
       "            color:  #000000;\n",
       "        }</style><table id=\"T_55899_\" ><thead>    <tr>        <th class=\"blank level0\" ></th>        <th class=\"col_heading level0 col0\" >Model</th>        <th class=\"col_heading level0 col1\" >Cross_validation_mean(accuracy)</th>        <th class=\"col_heading level0 col2\" >Cross_validation_mean(f1)</th>    </tr></thead><tbody>\n",
       "                <tr>\n",
       "                        <th id=\"T_55899_level0_row0\" class=\"row_heading level0 row0\" >0</th>\n",
       "                        <td id=\"T_55899_row0_col0\" class=\"data row0 col0\" >Decision Tree</td>\n",
       "                        <td id=\"T_55899_row0_col1\" class=\"data row0 col1\" >0.600000</td>\n",
       "                        <td id=\"T_55899_row0_col2\" class=\"data row0 col2\" >0.592189</td>\n",
       "            </tr>\n",
       "            <tr>\n",
       "                        <th id=\"T_55899_level0_row1\" class=\"row_heading level0 row1\" >1</th>\n",
       "                        <td id=\"T_55899_row1_col0\" class=\"data row1 col0\" >Random Forest</td>\n",
       "                        <td id=\"T_55899_row1_col1\" class=\"data row1 col1\" >0.678571</td>\n",
       "                        <td id=\"T_55899_row1_col2\" class=\"data row1 col2\" >0.679269</td>\n",
       "            </tr>\n",
       "            <tr>\n",
       "                        <th id=\"T_55899_level0_row2\" class=\"row_heading level0 row2\" >2</th>\n",
       "                        <td id=\"T_55899_row2_col0\" class=\"data row2 col0\" >Neural Network</td>\n",
       "                        <td id=\"T_55899_row2_col1\" class=\"data row2 col1\" >0.635714</td>\n",
       "                        <td id=\"T_55899_row2_col2\" class=\"data row2 col2\" >0.617766</td>\n",
       "            </tr>\n",
       "            <tr>\n",
       "                        <th id=\"T_55899_level0_row3\" class=\"row_heading level0 row3\" >3</th>\n",
       "                        <td id=\"T_55899_row3_col0\" class=\"data row3 col0\" >KNN</td>\n",
       "                        <td id=\"T_55899_row3_col1\" class=\"data row3 col1\" >0.621429</td>\n",
       "                        <td id=\"T_55899_row3_col2\" class=\"data row3 col2\" >0.576618</td>\n",
       "            </tr>\n",
       "    </tbody></table>"
      ],
      "text/plain": [
       "<pandas.io.formats.style.Styler at 0x16b40ce91f0>"
      ]
     },
     "execution_count": 127,
     "metadata": {},
     "output_type": "execute_result"
    }
   ],
   "source": [
    "predict = pd.DataFrame(data = compare_models, columns=['Model','Cross_validation_mean(accuracy)','Cross_validation_mean(f1)'])\n",
    "predict.style.background_gradient(cmap='YlGn')"
   ]
  },
  {
   "cell_type": "code",
   "execution_count": 128,
   "id": "5dba859b",
   "metadata": {},
   "outputs": [
    {
     "name": "stdout",
     "output_type": "stream",
     "text": [
      "Test set acc:  0.3611111111111111\n",
      "Test set f1_weighted 0.349059829059829\n"
     ]
    }
   ],
   "source": [
    "RF.fit(X_train_new_randOverSample, y_train_randOverSample)\n",
    "y_test_pred_RF = RF.predict(X_test_new_randOverSample)\n",
    "test_acc_RF = accuracy_score(y_test, y_test_pred_RF)\n",
    "test_f1_RF = f1_score(y_test, y_test_pred_RF, average = 'weighted')\n",
    "\n",
    "\n",
    "print(\"Test set acc: \", test_acc_RF)\n",
    "print(\"Test set f1_weighted\", test_f1_RF)"
   ]
  },
  {
   "cell_type": "markdown",
   "id": "b3d95128",
   "metadata": {},
   "source": [
    "# SMOTE"
   ]
  },
  {
   "cell_type": "code",
   "execution_count": 120,
   "id": "30ef362e",
   "metadata": {},
   "outputs": [],
   "source": [
    "X_train_smote = X_train.copy()\n",
    "y_train_smote = y_train.copy()"
   ]
  },
  {
   "cell_type": "code",
   "execution_count": 121,
   "id": "08592505",
   "metadata": {},
   "outputs": [],
   "source": [
    "#SMOTE\n",
    "sm = SMOTE(random_state=100)\n",
    "X_train_smote, y_train_smote = sm.fit_resample(X_train_smote, y_train_smote.ravel())"
   ]
  },
  {
   "cell_type": "code",
   "execution_count": 83,
   "id": "d88e6af0",
   "metadata": {},
   "outputs": [
    {
     "name": "stderr",
     "output_type": "stream",
     "text": [
      "[Parallel(n_jobs=-1)]: Using backend LokyBackend with 12 concurrent workers.\n",
      "[Parallel(n_jobs=-1)]: Done  23 out of  30 | elapsed:    8.1s remaining:    2.4s\n",
      "[Parallel(n_jobs=-1)]: Done  30 out of  30 | elapsed:   10.3s finished\n",
      "\n",
      "[2022-06-01 13:48:05] Features: 1/5 -- score: 0.5928571428571429[Parallel(n_jobs=-1)]: Using backend LokyBackend with 12 concurrent workers.\n",
      "[Parallel(n_jobs=-1)]: Done  21 out of  29 | elapsed:    9.7s remaining:    3.6s\n",
      "[Parallel(n_jobs=-1)]: Done  29 out of  29 | elapsed:   12.2s finished\n",
      "\n",
      "[2022-06-01 13:48:17] Features: 2/5 -- score: 0.6500000000000001[Parallel(n_jobs=-1)]: Using backend LokyBackend with 12 concurrent workers.\n",
      "[Parallel(n_jobs=-1)]: Done  20 out of  28 | elapsed:    9.1s remaining:    3.6s\n",
      "[Parallel(n_jobs=-1)]: Done  28 out of  28 | elapsed:   11.5s finished\n",
      "\n",
      "[2022-06-01 13:48:29] Features: 3/5 -- score: 0.7214285714285715[Parallel(n_jobs=-1)]: Using backend LokyBackend with 12 concurrent workers.\n",
      "[Parallel(n_jobs=-1)]: Done  18 out of  27 | elapsed:    9.3s remaining:    4.6s\n",
      "[Parallel(n_jobs=-1)]: Done  27 out of  27 | elapsed:   11.9s finished\n",
      "\n",
      "[2022-06-01 13:48:41] Features: 4/5 -- score: 0.75[Parallel(n_jobs=-1)]: Using backend LokyBackend with 12 concurrent workers.\n",
      "[Parallel(n_jobs=-1)]: Done  17 out of  26 | elapsed:    9.2s remaining:    4.8s\n",
      "[Parallel(n_jobs=-1)]: Done  26 out of  26 | elapsed:   11.9s finished\n",
      "\n",
      "[2022-06-01 13:48:53] Features: 5/5 -- score: 0.7714285714285716"
     ]
    }
   ],
   "source": [
    "sfs = SFS(GradientBoostingClassifier(n_estimators=100, random_state=0),\n",
    "          k_features = 5,\n",
    "          forward= True,\n",
    "          floating = False,\n",
    "          verbose= 2,\n",
    "          scoring= 'accuracy',\n",
    "          cv = CV,\n",
    "          n_jobs= -1).fit(X_train_smote, y_train_smote)"
   ]
  },
  {
   "cell_type": "code",
   "execution_count": 84,
   "id": "b3fb256e",
   "metadata": {},
   "outputs": [
    {
     "name": "stdout",
     "output_type": "stream",
     "text": [
      "Feature Names:  ('KIDS', 'READ_FREQ', 'READ_FREQ_SCI', 'GRADE', 'CUML_GPA')\n",
      "Score:  0.7714285714285716\n"
     ]
    }
   ],
   "source": [
    "print(\"Feature Names: \",sfs.k_feature_names_)\n",
    "print(\"Score: \", sfs.k_score_)"
   ]
  },
  {
   "cell_type": "code",
   "execution_count": 85,
   "id": "af296ad2",
   "metadata": {},
   "outputs": [],
   "source": [
    "X_train_new_smote = X_train_smote[['KIDS', 'READ_FREQ', 'READ_FREQ_SCI', 'GRADE', 'CUML_GPA']]\n",
    "\n",
    "X_test_new_smote = X_test[['KIDS', 'READ_FREQ', 'READ_FREQ_SCI', 'GRADE', 'CUML_GPA']]"
   ]
  },
  {
   "cell_type": "code",
   "execution_count": 129,
   "id": "6d693d91",
   "metadata": {},
   "outputs": [],
   "source": [
    "DT = DecisionTreeClassifier(criterion='entropy', max_depth=5, min_samples_leaf=4, min_samples_split=5, random_state=0)\n",
    "cross_val_DT = cross_val_score(DT, X_train_new_smote, y_train_smote , cv = CV, scoring = 'accuracy' ) \n",
    "cross_val_DT_f1 = cross_val_score(DT, X_train_new_smote, y_train_smote , cv = CV, scoring = 'f1_weighted' ) \n",
    "\n",
    "\n",
    "# --------------------------------------------------------------------------\n",
    "RF = RandomForestClassifier(criterion='entropy', min_samples_leaf=3,min_samples_split=5, \n",
    "                            n_estimators=200, random_state=0)\n",
    "cross_val_RF = cross_val_score(RF, X_train_new_smote, y_train_smote , cv = CV, scoring = 'accuracy') \n",
    "cross_val_RF_f1 = cross_val_score(RF, X_train_new_smote, y_train_smote , cv = CV, scoring = 'f1_weighted') \n",
    "\n",
    "# --------------------------------------------------------------------------\n",
    "NN = MLPClassifier(activation='tanh', hidden_layer_sizes=20, learning_rate_init=0.01, max_iter=100, random_state=0)\n",
    "cross_val_NN = cross_val_score(NN, X_train_new_smote, y_train_smote , cv = CV, scoring = 'accuracy') \n",
    "cross_val_NN_f1 = cross_val_score(NN, X_train_new_smote, y_train_smote , cv = CV, scoring = 'f1_weighted') \n",
    "\n",
    "# --------------------------------------------------------------------------\n",
    "KNN = KNeighborsClassifier(n_neighbors=17)\n",
    "cross_val_KNN = cross_val_score(KNN, X_train_new_smote, y_train_smote , cv = CV, scoring = 'accuracy') \n",
    "cross_val_KNN_f1 = cross_val_score(KNN, X_train_new_smote, y_train_smote , cv = CV, scoring = 'f1_weighted') "
   ]
  },
  {
   "cell_type": "code",
   "execution_count": 130,
   "id": "ec76fd87",
   "metadata": {},
   "outputs": [],
   "source": [
    "compare_models = [('Decision Tree', cross_val_DT.mean(),cross_val_DT_f1.mean()),\n",
    "                  ('Random Forest', cross_val_RF.mean(),cross_val_RF_f1.mean()),\n",
    "                 ('Neural Network', cross_val_NN.mean(),cross_val_NN_f1.mean()),\n",
    "                  ('KNN', cross_val_KNN.mean(), cross_val_KNN_f1.mean())]"
   ]
  },
  {
   "cell_type": "code",
   "execution_count": 131,
   "id": "10a96f20",
   "metadata": {},
   "outputs": [
    {
     "data": {
      "text/html": [
       "<style  type=\"text/css\" >\n",
       "#T_2bd09_row0_col1,#T_2bd09_row3_col2{\n",
       "            background-color:  #ffffe5;\n",
       "            color:  #000000;\n",
       "        }#T_2bd09_row0_col2{\n",
       "            background-color:  #f1fab5;\n",
       "            color:  #000000;\n",
       "        }#T_2bd09_row1_col1,#T_2bd09_row1_col2{\n",
       "            background-color:  #004529;\n",
       "            color:  #f1f1f1;\n",
       "        }#T_2bd09_row2_col1{\n",
       "            background-color:  #8bce81;\n",
       "            color:  #000000;\n",
       "        }#T_2bd09_row2_col2{\n",
       "            background-color:  #a2d88a;\n",
       "            color:  #000000;\n",
       "        }#T_2bd09_row3_col1{\n",
       "            background-color:  #d2eda0;\n",
       "            color:  #000000;\n",
       "        }</style><table id=\"T_2bd09_\" ><thead>    <tr>        <th class=\"blank level0\" ></th>        <th class=\"col_heading level0 col0\" >Model</th>        <th class=\"col_heading level0 col1\" >Cross_validation_mean(accuracy)</th>        <th class=\"col_heading level0 col2\" >Cross_validation_mean(f1_score)</th>    </tr></thead><tbody>\n",
       "                <tr>\n",
       "                        <th id=\"T_2bd09_level0_row0\" class=\"row_heading level0 row0\" >0</th>\n",
       "                        <td id=\"T_2bd09_row0_col0\" class=\"data row0 col0\" >Decision Tree</td>\n",
       "                        <td id=\"T_2bd09_row0_col1\" class=\"data row0 col1\" >0.600000</td>\n",
       "                        <td id=\"T_2bd09_row0_col2\" class=\"data row0 col2\" >0.592189</td>\n",
       "            </tr>\n",
       "            <tr>\n",
       "                        <th id=\"T_2bd09_level0_row1\" class=\"row_heading level0 row1\" >1</th>\n",
       "                        <td id=\"T_2bd09_row1_col0\" class=\"data row1 col0\" >Random Forest</td>\n",
       "                        <td id=\"T_2bd09_row1_col1\" class=\"data row1 col1\" >0.678571</td>\n",
       "                        <td id=\"T_2bd09_row1_col2\" class=\"data row1 col2\" >0.679269</td>\n",
       "            </tr>\n",
       "            <tr>\n",
       "                        <th id=\"T_2bd09_level0_row2\" class=\"row_heading level0 row2\" >2</th>\n",
       "                        <td id=\"T_2bd09_row2_col0\" class=\"data row2 col0\" >Neural Network</td>\n",
       "                        <td id=\"T_2bd09_row2_col1\" class=\"data row2 col1\" >0.635714</td>\n",
       "                        <td id=\"T_2bd09_row2_col2\" class=\"data row2 col2\" >0.617766</td>\n",
       "            </tr>\n",
       "            <tr>\n",
       "                        <th id=\"T_2bd09_level0_row3\" class=\"row_heading level0 row3\" >3</th>\n",
       "                        <td id=\"T_2bd09_row3_col0\" class=\"data row3 col0\" >KNN</td>\n",
       "                        <td id=\"T_2bd09_row3_col1\" class=\"data row3 col1\" >0.621429</td>\n",
       "                        <td id=\"T_2bd09_row3_col2\" class=\"data row3 col2\" >0.576618</td>\n",
       "            </tr>\n",
       "    </tbody></table>"
      ],
      "text/plain": [
       "<pandas.io.formats.style.Styler at 0x16b4111e0a0>"
      ]
     },
     "execution_count": 131,
     "metadata": {},
     "output_type": "execute_result"
    }
   ],
   "source": [
    "predict = pd.DataFrame(data = compare_models, columns=['Model','Cross_validation_mean(accuracy)','Cross_validation_mean(f1_score)'])\n",
    "predict.style.background_gradient(cmap='YlGn')"
   ]
  },
  {
   "cell_type": "code",
   "execution_count": 132,
   "id": "cab76221",
   "metadata": {},
   "outputs": [
    {
     "name": "stdout",
     "output_type": "stream",
     "text": [
      "Test set acc:  0.4722222222222222\n",
      "Test set f1_weighted 0.45133903133903136\n"
     ]
    }
   ],
   "source": [
    "RF.fit(X_train_new_smote, y_train_smote)\n",
    "y_test_pred_RF = RF.predict(X_test_new_smote)\n",
    "test_acc_RF = accuracy_score(y_test, y_test_pred_RF)\n",
    "test_f1_RF = f1_score(y_test, y_test_pred_RF, average = 'weighted')\n",
    "\n",
    "\n",
    "print(\"Test set acc: \", test_acc_RF)\n",
    "print(\"Test set f1_weighted\", test_f1_RF)"
   ]
  },
  {
   "cell_type": "markdown",
   "id": "a44cd3e5",
   "metadata": {},
   "source": [
    "# ADASYN"
   ]
  },
  {
   "cell_type": "code",
   "execution_count": 133,
   "id": "0b265520",
   "metadata": {},
   "outputs": [],
   "source": [
    "X_train_adasyn = X_train.copy()\n",
    "y_train_adasyn = y_train.copy()"
   ]
  },
  {
   "cell_type": "code",
   "execution_count": 134,
   "id": "9ea9b40f",
   "metadata": {},
   "outputs": [
    {
     "name": "stderr",
     "output_type": "stream",
     "text": [
      "[Parallel(n_jobs=-1)]: Using backend LokyBackend with 12 concurrent workers.\n",
      "[Parallel(n_jobs=-1)]: Done  23 out of  30 | elapsed:    8.7s remaining:    2.6s\n",
      "[Parallel(n_jobs=-1)]: Done  30 out of  30 | elapsed:   10.8s finished\n",
      "\n",
      "[2022-06-01 14:19:02] Features: 1/5 -- score: 0.5680555555555555[Parallel(n_jobs=-1)]: Using backend LokyBackend with 12 concurrent workers.\n",
      "[Parallel(n_jobs=-1)]: Done  21 out of  29 | elapsed:    8.5s remaining:    3.2s\n",
      "[Parallel(n_jobs=-1)]: Done  29 out of  29 | elapsed:   10.8s finished\n",
      "\n",
      "[2022-06-01 14:19:13] Features: 2/5 -- score: 0.6152777777777778[Parallel(n_jobs=-1)]: Using backend LokyBackend with 12 concurrent workers.\n",
      "[Parallel(n_jobs=-1)]: Done  20 out of  28 | elapsed:    8.6s remaining:    3.4s\n",
      "[Parallel(n_jobs=-1)]: Done  28 out of  28 | elapsed:   10.9s finished\n",
      "\n",
      "[2022-06-01 14:19:24] Features: 3/5 -- score: 0.6277777777777778[Parallel(n_jobs=-1)]: Using backend LokyBackend with 12 concurrent workers.\n",
      "[Parallel(n_jobs=-1)]: Done  18 out of  27 | elapsed:    8.1s remaining:    4.0s\n",
      "[Parallel(n_jobs=-1)]: Done  27 out of  27 | elapsed:   10.4s finished\n",
      "\n",
      "[2022-06-01 14:19:35] Features: 4/5 -- score: 0.6041666666666666[Parallel(n_jobs=-1)]: Using backend LokyBackend with 12 concurrent workers.\n",
      "[Parallel(n_jobs=-1)]: Done  17 out of  26 | elapsed:    8.4s remaining:    4.4s\n",
      "[Parallel(n_jobs=-1)]: Done  26 out of  26 | elapsed:   10.7s finished\n",
      "\n",
      "[2022-06-01 14:19:46] Features: 5/5 -- score: 0.5791666666666666"
     ]
    }
   ],
   "source": [
    "sfs_adasyn = SFS(GradientBoostingClassifier(n_estimators=100, random_state=0),\n",
    "          k_features = 5,\n",
    "          forward= True,\n",
    "          floating = False,\n",
    "          verbose= 2,\n",
    "          scoring= 'accuracy',\n",
    "          cv = CV,\n",
    "          n_jobs= -1).fit(X_train_adasyn, y_train_adasyn)"
   ]
  },
  {
   "cell_type": "code",
   "execution_count": 136,
   "id": "4611a88a",
   "metadata": {},
   "outputs": [
    {
     "name": "stdout",
     "output_type": "stream",
     "text": [
      "Feature Names:  ('MOTHER_EDU', 'NOTES', 'READ_FREQ', 'IMPACT', 'CUML_GPA')\n",
      "Score:  0.5791666666666666\n"
     ]
    }
   ],
   "source": [
    "print(\"Feature Names: \",sfs_adasyn.k_feature_names_)\n",
    "print(\"Score: \", sfs_adasyn.k_score_)"
   ]
  },
  {
   "cell_type": "code",
   "execution_count": 137,
   "id": "e481d9fe",
   "metadata": {},
   "outputs": [],
   "source": [
    "X_train_new_adasyn = X_train_adasyn[['MOTHER_EDU', 'NOTES', 'READ_FREQ', 'IMPACT', 'CUML_GPA']]\n",
    "\n",
    "X_test_new_adasyn = X_test[['MOTHER_EDU', 'NOTES', 'READ_FREQ', 'IMPACT', 'CUML_GPA']]"
   ]
  },
  {
   "cell_type": "code",
   "execution_count": 138,
   "id": "2292f9eb",
   "metadata": {},
   "outputs": [],
   "source": [
    "DT = DecisionTreeClassifier(min_samples_leaf=5, min_samples_split=5, random_state=0)\n",
    "cross_val_DT = cross_val_score(DT, X_train_new_adasyn, y_train_adasyn , cv = CV, scoring = 'accuracy') \n",
    "cross_val_DT_f1 = cross_val_score(DT, X_train_new_adasyn, y_train_adasyn , cv = CV, scoring = 'f1_weighted') \n",
    "\n",
    "# --------------------------------------------------------------------------\n",
    "RF = RandomForestClassifier(min_samples_leaf=2, min_samples_split=4, random_state=0)\n",
    "cross_val_RF = cross_val_score(RF, X_train_new_adasyn, y_train_adasyn , cv = CV, scoring = 'accuracy') \n",
    "cross_val_RF_f1 = cross_val_score(RF, X_train_new_adasyn, y_train_adasyn , cv = CV, scoring = 'f1_weighted') \n",
    "\n",
    "# --------------------------------------------------------------------------\n",
    "NN = MLPClassifier(activation='tanh', hidden_layer_sizes=(20, 30), learning_rate_init=0.1, random_state=0, solver='sgd')\n",
    "cross_val_NN = cross_val_score(NN, X_train_new_adasyn, y_train_adasyn , cv = CV, scoring = 'accuracy') \n",
    "cross_val_NN_f1 = cross_val_score(NN, X_train_new_adasyn, y_train_adasyn , cv = CV, scoring = 'f1_weighted') \n",
    "\n",
    "# --------------------------------------------------------------------------\n",
    "KNN = KNeighborsClassifier(n_neighbors=18)\n",
    "cross_val_KNN = cross_val_score(KNN, X_train_new_adasyn, y_train_adasyn , cv = CV, scoring = 'accuracy') \n",
    "cross_val_KNN_f1 = cross_val_score(KNN, X_train_new_adasyn, y_train_adasyn , cv = CV, scoring = 'f1_weighted') \n"
   ]
  },
  {
   "cell_type": "code",
   "execution_count": 139,
   "id": "44675fc4",
   "metadata": {},
   "outputs": [],
   "source": [
    "compare_models = [('Decision Tree', cross_val_DT.mean(),cross_val_DT_f1.mean()),\n",
    "                  ('Random Forest', cross_val_RF.mean(),cross_val_RF_f1.mean()),\n",
    "                 ('Neural Network', cross_val_NN.mean(),cross_val_NN_f1.mean()),\n",
    "                  ('KNN', cross_val_KNN.mean(), cross_val_KNN_f1.mean()),\n",
    "                  ]"
   ]
  },
  {
   "cell_type": "code",
   "execution_count": 140,
   "id": "26f68383",
   "metadata": {},
   "outputs": [
    {
     "data": {
      "text/html": [
       "<style  type=\"text/css\" >\n",
       "#T_31230_row0_col1{\n",
       "            background-color:  #096f3a;\n",
       "            color:  #f1f1f1;\n",
       "        }#T_31230_row0_col2{\n",
       "            background-color:  #026a38;\n",
       "            color:  #f1f1f1;\n",
       "        }#T_31230_row1_col1{\n",
       "            background-color:  #329850;\n",
       "            color:  #000000;\n",
       "        }#T_31230_row1_col2{\n",
       "            background-color:  #10743c;\n",
       "            color:  #f1f1f1;\n",
       "        }#T_31230_row2_col1,#T_31230_row2_col2{\n",
       "            background-color:  #004529;\n",
       "            color:  #f1f1f1;\n",
       "        }#T_31230_row3_col1,#T_31230_row3_col2{\n",
       "            background-color:  #ffffe5;\n",
       "            color:  #000000;\n",
       "        }</style><table id=\"T_31230_\" ><thead>    <tr>        <th class=\"blank level0\" ></th>        <th class=\"col_heading level0 col0\" >Model</th>        <th class=\"col_heading level0 col1\" >Cross_validation_mean(accuracy)</th>        <th class=\"col_heading level0 col2\" >Cross_validation_mean(f1_score)</th>    </tr></thead><tbody>\n",
       "                <tr>\n",
       "                        <th id=\"T_31230_level0_row0\" class=\"row_heading level0 row0\" >0</th>\n",
       "                        <td id=\"T_31230_row0_col0\" class=\"data row0 col0\" >Decision Tree</td>\n",
       "                        <td id=\"T_31230_row0_col1\" class=\"data row0 col1\" >0.566667</td>\n",
       "                        <td id=\"T_31230_row0_col2\" class=\"data row0 col2\" >0.530476</td>\n",
       "            </tr>\n",
       "            <tr>\n",
       "                        <th id=\"T_31230_level0_row1\" class=\"row_heading level0 row1\" >1</th>\n",
       "                        <td id=\"T_31230_row1_col0\" class=\"data row1 col0\" >Random Forest</td>\n",
       "                        <td id=\"T_31230_row1_col1\" class=\"data row1 col1\" >0.541667</td>\n",
       "                        <td id=\"T_31230_row1_col2\" class=\"data row1 col2\" >0.519345</td>\n",
       "            </tr>\n",
       "            <tr>\n",
       "                        <th id=\"T_31230_level0_row2\" class=\"row_heading level0 row2\" >2</th>\n",
       "                        <td id=\"T_31230_row2_col0\" class=\"data row2 col0\" >Neural Network</td>\n",
       "                        <td id=\"T_31230_row2_col1\" class=\"data row2 col1\" >0.591667</td>\n",
       "                        <td id=\"T_31230_row2_col2\" class=\"data row2 col2\" >0.562282</td>\n",
       "            </tr>\n",
       "            <tr>\n",
       "                        <th id=\"T_31230_level0_row3\" class=\"row_heading level0 row3\" >3</th>\n",
       "                        <td id=\"T_31230_row3_col0\" class=\"data row3 col0\" >KNN</td>\n",
       "                        <td id=\"T_31230_row3_col1\" class=\"data row3 col1\" >0.433333</td>\n",
       "                        <td id=\"T_31230_row3_col2\" class=\"data row3 col2\" >0.324848</td>\n",
       "            </tr>\n",
       "    </tbody></table>"
      ],
      "text/plain": [
       "<pandas.io.formats.style.Styler at 0x16b40ce9160>"
      ]
     },
     "execution_count": 140,
     "metadata": {},
     "output_type": "execute_result"
    }
   ],
   "source": [
    "predict = pd.DataFrame(data = compare_models, columns=['Model','Cross_validation_mean(accuracy)','Cross_validation_mean(f1_score)'])\n",
    "predict.style.background_gradient(cmap='YlGn')"
   ]
  },
  {
   "cell_type": "code",
   "execution_count": 141,
   "id": "51bf99ee",
   "metadata": {},
   "outputs": [
    {
     "name": "stdout",
     "output_type": "stream",
     "text": [
      "Test set Accuracy:  0.5833333333333334\n",
      "Test set f1_weighted 0.5527490223142397\n"
     ]
    }
   ],
   "source": [
    "NN.fit(X_train_new_adasyn, y_train_adasyn)\n",
    "y_test_pred_NN = NN.predict(X_test_new_adasyn)\n",
    "test_acc_NN = accuracy_score(y_test, y_test_pred_NN)\n",
    "test_f1_NN = f1_score(y_test, y_test_pred_NN, average = 'weighted')\n",
    "\n",
    "print(\"Test set Accuracy: \", test_acc_NN)\n",
    "print(\"Test set f1_weighted\", test_f1_NN)"
   ]
  },
  {
   "cell_type": "markdown",
   "id": "c1719426",
   "metadata": {},
   "source": [
    "# Conclusion and Summary"
   ]
  },
  {
   "cell_type": "markdown",
   "id": "6bbff07f",
   "metadata": {},
   "source": [
    "From exploring the data, we discovered that the data was imbalnced. In order to handle our small data set, I decided to go with oversampling the data in 3 different methods: \n",
    "- Random Oversampling\n",
    "- SMOTE\n",
    "- ADASYN\n",
    "\n",
    "From there I then used 4 different classification models to help create predictions of EXP_GPA:\n",
    "- Decision Tree\n",
    "- Random Forest\n",
    "- Neural Netowrks\n",
    "- KNN"
   ]
  },
  {
   "cell_type": "markdown",
   "id": "ddc2d596",
   "metadata": {},
   "source": [
    "From the results of each model and the oversampling methods, it seems as though the best model is a Neural Network with the oversampling method of ADASYN. Other oversampling methods resulted in overfitting of the data whereas the ADASYN method was better suited in generalizing over the model. \n",
    "The following features that were realted to the model includes:\n",
    "- MOTHER_EDU\n",
    "- NOTES\n",
    "- READ_FREQ\n",
    "- IMPACT\n",
    "- CUML_GPA"
   ]
  },
  {
   "cell_type": "markdown",
   "id": "52c18a5f",
   "metadata": {},
   "source": [
    "With an accuracy score of ~59% and f1 sccore of ~56, we can perform further resaserch to improve the models. "
   ]
  }
 ],
 "metadata": {
  "kernelspec": {
   "display_name": "Python 3",
   "language": "python",
   "name": "python3"
  },
  "language_info": {
   "codemirror_mode": {
    "name": "ipython",
    "version": 3
   },
   "file_extension": ".py",
   "mimetype": "text/x-python",
   "name": "python",
   "nbconvert_exporter": "python",
   "pygments_lexer": "ipython3",
   "version": "3.8.8"
  }
 },
 "nbformat": 4,
 "nbformat_minor": 5
}
